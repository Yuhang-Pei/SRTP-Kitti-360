{
 "cells": [
  {
   "cell_type": "code",
   "execution_count": 1,
   "id": "61989ce5",
   "metadata": {},
   "outputs": [],
   "source": [
    "from sklearn.decomposition import PCA\n",
    "import numpy as np"
   ]
  },
  {
   "cell_type": "code",
   "execution_count": 2,
   "id": "c8eb1060",
   "metadata": {},
   "outputs": [],
   "source": [
    "def ReadPCAMatrixData(pca_matrix: list):\n",
    "    with open(file = 'pca_matrix.dat', mode = 'r') as pca_matrix_file:\n",
    "        while 1:\n",
    "            line = pca_matrix_file.readline()\n",
    "            if not line:\n",
    "                break;\n",
    "            l = [ord(x) - ord('0') for x in line]\n",
    "            l.pop()\n",
    "            pca_matrix.append(l)"
   ]
  },
  {
   "cell_type": "code",
   "execution_count": 3,
   "id": "4fbb25b9",
   "metadata": {},
   "outputs": [],
   "source": [
    "def MatchingDegree(v1, v2):\n",
    "    return np.linalg.norm(v1 - v2)"
   ]
  },
  {
   "cell_type": "code",
   "execution_count": 4,
   "id": "7e2cbfa7",
   "metadata": {},
   "outputs": [],
   "source": [
    "pca_matrix = list() # create an empty list\n",
    "ReadPCAMatrixData(pca_matrix)\n",
    "last = pca_matrix.pop()\n",
    "pca = PCA(n_components = 156)"
   ]
  },
  {
   "cell_type": "code",
   "execution_count": 5,
   "id": "fffd63f2",
   "metadata": {},
   "outputs": [
    {
     "data": {
      "text/plain": [
       "PCA(n_components=156)"
      ]
     },
     "execution_count": 5,
     "metadata": {},
     "output_type": "execute_result"
    }
   ],
   "source": [
    "train = np.array(pca_matrix)\n",
    "pca.fit(train)"
   ]
  },
  {
   "cell_type": "markdown",
   "id": "519d7f2b",
   "metadata": {},
   "source": [
    "Show the dimension before PCA process"
   ]
  },
  {
   "cell_type": "code",
   "execution_count": 6,
   "id": "25bc2735",
   "metadata": {
    "scrolled": true
   },
   "outputs": [
    {
     "name": "stdout",
     "output_type": "stream",
     "text": [
      "262144\n"
     ]
    }
   ],
   "source": [
    "last = np.array([last]) # Pay attention that need to transform last into 2-dimensional array\n",
    "print(len(last[0]))"
   ]
  },
  {
   "cell_type": "code",
   "execution_count": 7,
   "id": "0c339cfa",
   "metadata": {
    "scrolled": true
   },
   "outputs": [
    {
     "name": "stdout",
     "output_type": "stream",
     "text": [
      "1\n"
     ]
    }
   ],
   "source": [
    "last = pca.transform(last)\n",
    "print(len(last))"
   ]
  },
  {
   "cell_type": "markdown",
   "id": "b124cf8f",
   "metadata": {},
   "source": [
    "Show the dimension after PCA process"
   ]
  },
  {
   "cell_type": "code",
   "execution_count": 8,
   "id": "ca95aa79",
   "metadata": {
    "scrolled": true
   },
   "outputs": [
    {
     "name": "stdout",
     "output_type": "stream",
     "text": [
      "156\n"
     ]
    }
   ],
   "source": [
    "print(len(last[0]))"
   ]
  },
  {
   "cell_type": "markdown",
   "id": "b3a79c2e",
   "metadata": {},
   "source": [
    "Try to save object `pca`"
   ]
  },
  {
   "cell_type": "code",
   "execution_count": 15,
   "id": "df4e852c",
   "metadata": {},
   "outputs": [],
   "source": [
    "import pickle\n",
    "\n",
    "def save_obj(obj, name):\n",
    "    with open(name + '.pkl', 'wb') as f:\n",
    "        pickle.dump(obj, f, pickle.HIGHEST_PROTOCOL)\n",
    "\n",
    "def load_obj(name):\n",
    "    with open(name + '.pkl', 'rb') as f:\n",
    "        return pickle.load(f)"
   ]
  },
  {
   "cell_type": "code",
   "execution_count": 11,
   "id": "84712376",
   "metadata": {},
   "outputs": [],
   "source": [
    "save_obj(pca, 'pca')"
   ]
  },
  {
   "cell_type": "code",
   "execution_count": 16,
   "id": "f30806a7",
   "metadata": {},
   "outputs": [],
   "source": [
    "load_pca = load_obj('pca')"
   ]
  }
 ],
 "metadata": {
  "kernelspec": {
   "display_name": "Python 3 (ipykernel)",
   "language": "python",
   "name": "python3"
  },
  "language_info": {
   "codemirror_mode": {
    "name": "ipython",
    "version": 3
   },
   "file_extension": ".py",
   "mimetype": "text/x-python",
   "name": "python",
   "nbconvert_exporter": "python",
   "pygments_lexer": "ipython3",
   "version": "3.10.4"
  }
 },
 "nbformat": 4,
 "nbformat_minor": 5
}
